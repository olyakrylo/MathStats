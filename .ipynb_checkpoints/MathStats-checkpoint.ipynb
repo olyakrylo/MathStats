{
 "cells": [
  {
   "cell_type": "code",
   "execution_count": 5,
   "metadata": {},
   "outputs": [],
   "source": [
    "data = []\n",
    "with open(\"data_1.txt\")as file:\n",
    "    for line in file:\n",
    "        data.append(float(line))\n",
    "sortData = sorted(data)"
   ]
  },
  {
   "cell_type": "code",
   "execution_count": 6,
   "metadata": {},
   "outputs": [
    {
     "name": "stdout",
     "output_type": "stream",
     "text": [
      "Вариационный ряд:\n",
      "1 )  -4.189224779460634   1\n",
      "2 )  -2.048927716325055   1\n",
      "3 )  -2.037461028682795   1\n",
      "4 )  -1.9841139150191154   1\n",
      "5 )  0.08449294713130939   1\n",
      "6 )  0.34632188352482096   1\n",
      "7 )  0.49952518698559345   1\n",
      "8 )  1.738190382478205   1\n",
      "9 )  1.8131277127604157   1\n",
      "10 )  2.0518242034382874   1\n",
      "11 )  2.411803664030404   1\n",
      "12 )  2.9869554724939373   1\n",
      "13 )  3.118445729361312   1\n",
      "14 )  3.3587386576166542   1\n",
      "15 )  3.3767417830073985   1\n",
      "16 )  4.022085460345815   1\n",
      "17 )  4.247650506119712   1\n",
      "18 )  4.462908786944481   1\n",
      "19 )  4.575353153529823   1\n",
      "20 )  4.856695119861911   1\n",
      "21 )  5.251040639126562   1\n",
      "22 )  5.584686940681912   1\n",
      "23 )  5.702913405352568   1\n",
      "24 )  5.844564274130423   1\n",
      "25 )  6.263189730054707   1\n",
      "26 )  6.37005569277684   1\n",
      "27 )  6.4767961600170745   1\n",
      "28 )  6.633543193212685   1\n",
      "29 )  6.746492825811285   1\n",
      "30 )  6.88807111070413   1\n",
      "31 )  7.039251694905437   1\n",
      "32 )  7.104379195788329   1\n",
      "33 )  7.356239108376483   1\n",
      "34 )  7.372100434499014   1\n",
      "35 )  7.393209335425526   1\n",
      "36 )  7.491323992829685   1\n",
      "37 )  7.578228471619046   1\n",
      "38 )  7.594437674002913   1\n",
      "39 )  7.997269424385342   1\n",
      "40 )  8.193764412988257   1\n",
      "41 )  8.207506502888704   1\n",
      "42 )  8.304961847490677   1\n",
      "43 )  8.35891518547017   1\n",
      "44 )  8.375370591910222   1\n",
      "45 )  8.425460499725775   1\n",
      "46 )  8.700197866453413   1\n",
      "47 )  8.733109097144194   1\n",
      "48 )  9.007780784709892   1\n",
      "49 )  9.269553055581298   1\n",
      "50 )  9.492891075518349   1\n",
      "51 )  9.532912461639517   1\n",
      "52 )  9.534525875726505   1\n",
      "53 )  9.57489408439845   1\n",
      "54 )  9.586065923338685   1\n",
      "55 )  9.924941635938763   1\n",
      "56 )  10.740442938409483   1\n",
      "57 )  10.742615680568843   1\n",
      "58 )  10.861553351971002   1\n",
      "59 )  11.0334802275195   1\n",
      "60 )  11.074252681516562   1\n",
      "61 )  11.139668040609294   1\n",
      "62 )  11.401059712309937   1\n",
      "63 )  11.461797762302632   1\n",
      "64 )  11.532198671226695   1\n",
      "65 )  11.747534220746683   1\n",
      "66 )  12.037065368992337   1\n",
      "67 )  12.476023845893694   1\n",
      "68 )  12.485199011055688   1\n",
      "69 )  12.933859711088987   1\n",
      "70 )  12.971453509540858   1\n",
      "71 )  13.02350970981719   1\n",
      "72 )  13.142177159047428   1\n",
      "73 )  13.194167469876003   1\n",
      "74 )  13.25358289819704   1\n",
      "75 )  13.280905112419992   1\n",
      "76 )  13.285720250610026   1\n",
      "77 )  13.344274824672603   1\n",
      "78 )  13.915835601508629   1\n",
      "79 )  14.073061267657387   1\n",
      "80 )  14.34214929477189   1\n",
      "81 )  14.730423029719725   1\n",
      "82 )  14.765418240669216   1\n",
      "83 )  14.8328015523225   1\n",
      "84 )  14.929907245945904   1\n",
      "85 )  15.052534518708832   1\n",
      "86 )  15.580640874537645   1\n",
      "87 )  16.269417419439865   1\n",
      "88 )  16.273328803136856   1\n",
      "89 )  16.594636918300516   1\n",
      "90 )  17.264689528472786   1\n",
      "91 )  17.355903501572286   1\n",
      "92 )  17.427194615620063   1\n",
      "93 )  17.628989318622903   1\n",
      "94 )  17.85289303658041   1\n",
      "95 )  17.91098917956218   1\n",
      "96 )  18.22885145872077   1\n",
      "97 )  18.269000612772036   1\n",
      "98 )  18.63232246243245   1\n",
      "99 )  18.686329060490646   1\n",
      "100 )  20.439974414626946   1\n"
     ]
    }
   ],
   "source": [
    "from collections import Counter\n",
    "c = Counter(sortData)\n",
    "print(\"Вариационный ряд:\")\n",
    "for i in range(len(data)):\n",
    "    print(i + 1, ') ', sortData[i], ' ', c[sortData[i]])"
   ]
  },
  {
   "cell_type": "code",
   "execution_count": 7,
   "metadata": {
    "scrolled": true
   },
   "outputs": [
    {
     "name": "stdout",
     "output_type": "stream",
     "text": [
      "Интервальный ряд:\n",
      "( -4.189224779460634 ; -1.7263048600518762 )   3\n",
      "( -1.7263048600518762 ; 0.7366150593568817 )   3\n",
      "( 0.7366150593568817 ; 3.1995349787656395 )   6\n",
      "( 3.199534978765639 ; 5.662454898174397 )   9\n",
      "( 5.662454898174397 ; 8.125374817583156 )   17\n",
      "( 8.125374817583156 ; 10.588294736991914 )   16\n",
      "( 10.588294736991912 ; 13.05121465640067 )   16\n",
      "( 13.05121465640067 ; 15.514134575809429 )   14\n",
      "( 15.514134575809429 ; 17.977054495218187 )   10\n",
      "( 17.977054495218187 ; 20.439974414626946 )   4\n"
     ]
    }
   ],
   "source": [
    "import math\n",
    "k = int(1 + 1.44 * math.log2(len(data)))\n",
    "interval = (sortData[len(data) - 1] - sortData[0]) / k\n",
    "forHist = [0]\n",
    "print(\"Интервальный ряд:\")\n",
    "for i in range(k):\n",
    "    min = sortData[0] + i * interval\n",
    "    max = min + interval\n",
    "    print('(', min, ';', max, ')', end='   ')\n",
    "    counter = 0\n",
    "    for j in sortData:\n",
    "        if j > min and j < max: counter += 1\n",
    "    print(counter)\n",
    "    \n",
    "    forHist.append(counter / (len(data) * (max - min)))\n",
    "forHist.append(0)"
   ]
  },
  {
   "cell_type": "code",
   "execution_count": 13,
   "metadata": {
    "scrolled": true
   },
   "outputs": [
    {
     "name": "stdout",
     "output_type": "stream",
     "text": [
      "Гистограмма относительных частот:\n"
     ]
    },
    {
     "data": {
      "image/png": "[encoded data removed]",
      "text/plain": [
       "<Figure size 432x288 with 1 Axes>"
      ]
     },
     "metadata": {
      "needs_background": "light"
     },
     "output_type": "display_data"
    }
   ],
   "source": [
    "import numpy as np\n",
    "import matplotlib.pyplot as plt \n",
    "min = int(sortData[0])\n",
    "max = int(sortData[len(sortData) - 1])\n",
    "x = np.arange(min - interval, max + interval, interval)\n",
    "plt.plot(x, forHist)\n",
    "print(\"Гистограмма относительных частот:\")\n",
    "plt.show()"
   ]
  },
  {
   "cell_type": "code",
   "execution_count": 9,
   "metadata": {},
   "outputs": [
    {
     "name": "stdout",
     "output_type": "stream",
     "text": [
      "Выборочное среднее:\n",
      "9.538216115293505\n"
     ]
    }
   ],
   "source": [
    "mid = sum(data) / len(data)\n",
    "print(\"Выборочное среднее:\")\n",
    "print(mid)"
   ]
  },
  {
   "cell_type": "code",
   "execution_count": 11,
   "metadata": {},
   "outputs": [
    {
     "name": "stdout",
     "output_type": "stream",
     "text": [
      "Выборочная дисперсия: 29.063503309664252\n",
      "Исправленная выборочная дисперсия: 29.35707405016591\n",
      "Выборочное среднеквадратичное отклонение: 5.391057717152011\n"
     ]
    }
   ],
   "source": [
    "disp = sum([(i - mid) ** 2 for i in data]) / len(data)\n",
    "sq = disp ** 0.5\n",
    "corrDisp = disp * len(data) / (len(data) - 1)\n",
    "print(\"Выборочная дисперсия:\", disp)\n",
    "print(\"Исправленная выборочная дисперсия:\", corrDisp)\n",
    "print(\"Выборочное среднеквадратичное отклонение:\", sq)"
   ]
  },
  {
   "cell_type": "code",
   "execution_count": 12,
   "metadata": {},
   "outputs": [
    {
     "name": "stdout",
     "output_type": "stream",
     "text": [
      "Выборочный коэффициент асимметрии: -0.22132965270668095\n",
      "Выборочный коэффициент эксцесса: -0.4519877846462492\n"
     ]
    }
   ],
   "source": [
    "mu3 = sum([(i - mid) ** 3 for i in data]) / len(data)\n",
    "asym = mu3 / sq ** 3\n",
    "mu4 = sum([(i - mid) ** 4 for i in data]) / len(data)\n",
    "exc = mu4 / sq ** 4 - 3\n",
    "print(\"Выборочный коэффициент асимметрии:\", asym)\n",
    "print(\"Выборочный коэффициент эксцесса:\", exc)"
   ]
  },
  {
   "cell_type": "code",
   "execution_count": null,
   "metadata": {},
   "outputs": [],
   "source": []
  }
 ],
 "metadata": {
  "kernelspec": {
   "display_name": "Python 3",
   "language": "python",
   "name": "python3"
  },
  "language_info": {
   "codemirror_mode": {
    "name": "ipython",
    "version": 3
   },
   "file_extension": ".py",
   "mimetype": "text/x-python",
   "name": "python",
   "nbconvert_exporter": "python",
   "pygments_lexer": "ipython3",
   "version": "3.7.3"
  }
 },
 "nbformat": 4,
 "nbformat_minor": 2
}
